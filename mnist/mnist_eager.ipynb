{
 "cells": [
  {
   "cell_type": "code",
   "execution_count": 1,
   "metadata": {},
   "outputs": [],
   "source": [
    "import random\n",
    "import numpy as np\n",
    "\n",
    "%matplotlib inline\n",
    "import matplotlib.pyplot as plt\n",
    "\n",
    "import tensorflow as tf"
   ]
  },
  {
   "cell_type": "markdown",
   "metadata": {},
   "source": [
    "## Enable TF eager mode"
   ]
  },
  {
   "cell_type": "code",
   "execution_count": 2,
   "metadata": {},
   "outputs": [],
   "source": [
    "tf.enable_eager_execution()"
   ]
  },
  {
   "cell_type": "markdown",
   "metadata": {},
   "source": [
    "## Settings"
   ]
  },
  {
   "cell_type": "code",
   "execution_count": 3,
   "metadata": {},
   "outputs": [],
   "source": [
    "NUM_EPOCHS = 4 # ADJUST\n",
    "BATCH_SIZE = 64 # ADJUST\n",
    "LEARNING_RATE = 0.0001 # ADJUST"
   ]
  },
  {
   "cell_type": "markdown",
   "metadata": {},
   "source": [
    "## Load and preprocess MNIST dataset"
   ]
  },
  {
   "cell_type": "code",
   "execution_count": 4,
   "metadata": {},
   "outputs": [
    {
     "name": "stdout",
     "output_type": "stream",
     "text": [
      "Train images shape: (60000, 28, 28, 1)\n",
      "Test images shape: (10000, 28, 28, 1)\n"
     ]
    }
   ],
   "source": [
    "train_data, test_data = tf.keras.datasets.mnist.load_data()\n",
    "train_images, train_labels = train_data\n",
    "test_images, test_labels = test_data\n",
    "\n",
    "train_images = train_images.reshape(-1, 28, 28, 1).astype(np.float32)/255\n",
    "test_images = test_images.reshape(-1, 28, 28, 1).astype(np.float32)/255\n",
    "\n",
    "train_labels = train_labels.astype(np.int32)\n",
    "test_labels = test_labels.astype(np.int32)\n",
    "\n",
    "print('Train images shape: {}'.format(train_images.shape))\n",
    "print('Test images shape: {}'.format(test_images.shape))"
   ]
  },
  {
   "cell_type": "markdown",
   "metadata": {},
   "source": [
    "## Visualize MNIST examples"
   ]
  },
  {
   "cell_type": "code",
   "execution_count": 5,
   "metadata": {},
   "outputs": [
    {
     "data": {
      "image/png": "[encoded data removed]",
      "text/plain": [
       "<Figure size 720x432 with 32 Axes>"
      ]
     },
     "metadata": {},
     "output_type": "display_data"
    }
   ],
   "source": [
    "some_samples = train_images[:32, ...]\n",
    "\n",
    "fig = plt.figure(figsize=(10, 6))\n",
    "for j in range(some_samples.shape[0]):\n",
    "    ax = fig.add_subplot(4, 8, j+1)\n",
    "    ax.imshow(some_samples[j,:,:,0], cmap='binary')\n",
    "    plt.xticks(np.array([])), plt.yticks(np.array([]))\n",
    "plt.show()"
   ]
  },
  {
   "cell_type": "markdown",
   "metadata": {},
   "source": [
    "## Create TF data pipeline"
   ]
  },
  {
   "cell_type": "code",
   "execution_count": 6,
   "metadata": {},
   "outputs": [],
   "source": [
    "num_examples = train_images.shape[0]\n",
    "\n",
    "train_ds = tf.data.Dataset.from_tensor_slices((train_images, train_labels))\n",
    "train_ds = train_ds.shuffle(buffer_size=num_examples)\n",
    "train_ds = train_ds.repeat(NUM_EPOCHS)\n",
    "train_ds = train_ds.batch(BATCH_SIZE)"
   ]
  },
  {
   "cell_type": "markdown",
   "metadata": {},
   "source": [
    "## Create NN model class"
   ]
  },
  {
   "cell_type": "code",
   "execution_count": 7,
   "metadata": {},
   "outputs": [],
   "source": [
    "class Model(tf.keras.Model):\n",
    "    \n",
    "    def __init__(self):\n",
    "        super(Model, self).__init__()\n",
    "\n",
    "        self.conv1 = tf.layers.Conv2D(32, (5, 5), activation=tf.nn.relu,\n",
    "            padding='same',\n",
    "            bias_initializer=tf.constant_initializer(0.1),\n",
    "            kernel_initializer=tf.truncated_normal_initializer(stddev=0.1))\n",
    "        \n",
    "        self.conv2 = tf.layers.Conv2D(64, (5, 5), activation=tf.nn.relu,\n",
    "            padding='same',\n",
    "            bias_initializer=tf.constant_initializer(0.1),\n",
    "            kernel_initializer=tf.truncated_normal_initializer(stddev=0.1))\n",
    "        \n",
    "        self.fc1 = tf.layers.Dense(256, activation=tf.nn.relu,\n",
    "            bias_initializer=tf.constant_initializer(0.1),\n",
    "            kernel_initializer=tf.truncated_normal_initializer(stddev=0.1))\n",
    "        \n",
    "        self.fc2 = tf.layers.Dense(10, activation=None,\n",
    "            bias_initializer=tf.constant_initializer(0.1),\n",
    "            kernel_initializer=tf.truncated_normal_initializer(stddev=0.1))\n",
    "        \n",
    "        self.max_pool = tf.layers.MaxPooling2D((2, 2), (2, 2), padding='same')\n",
    "\n",
    "    def __call__(self, inp):\n",
    "\n",
    "        out = self.conv1(inp)\n",
    "        out = self.max_pool(out)\n",
    "        out = self.conv2(out)\n",
    "        out = self.max_pool(out)\n",
    "        out = tf.layers.flatten(out)\n",
    "        out = self.fc1(out)\n",
    "        out = self.fc2(out)  \n",
    "\n",
    "        return out\n",
    "\n",
    "model = Model()"
   ]
  },
  {
   "cell_type": "markdown",
   "metadata": {},
   "source": [
    "## Define loss and accuracy functions"
   ]
  },
  {
   "cell_type": "code",
   "execution_count": 8,
   "metadata": {},
   "outputs": [],
   "source": [
    "def loss(logits, labels):\n",
    "    return tf.reduce_mean(tf.nn.sparse_softmax_cross_entropy_with_logits(\n",
    "        logits=logits, labels=labels))\n",
    "\n",
    "def accuracy(logits, labels):\n",
    "    predictions = tf.argmax(logits, axis=1, output_type=tf.int64)\n",
    "    labels = tf.cast(labels, tf.int64)\n",
    "    return tf.reduce_mean(tf.cast(tf.equal(predictions, labels), \n",
    "        dtype=tf.float32))"
   ]
  },
  {
   "cell_type": "markdown",
   "metadata": {},
   "source": [
    "## Create training structures"
   ]
  },
  {
   "cell_type": "code",
   "execution_count": 9,
   "metadata": {},
   "outputs": [],
   "source": [
    "# ADJUST\n",
    "# optimizer = tf.train.GradientDescentOptimizer(LEARNING_RATE)\n",
    "# LOG_DIR = 'logs_mnsit_eager/sgd/'\n",
    "optimizer = tf.train.AdamOptimizer(LEARNING_RATE)\n",
    "LOG_DIR = 'logs_mnsit_eager/adam/'\n",
    "\n",
    "writer = tf.contrib.summary.create_file_writer(LOG_DIR)\n",
    "global_step = tf.train.get_or_create_global_step()"
   ]
  },
  {
   "cell_type": "markdown",
   "metadata": {},
   "source": [
    "## Run training loop"
   ]
  },
  {
   "cell_type": "code",
   "execution_count": 10,
   "metadata": {},
   "outputs": [
    {
     "name": "stdout",
     "output_type": "stream",
     "text": [
      "[   1] Accuracy: 12.11 %\n",
      "[ 201] Accuracy: 90.23 %\n",
      "[ 401] Accuracy: 93.75 %\n",
      "[ 601] Accuracy: 96.09 %\n",
      "[ 801] Accuracy: 96.48 %\n",
      "[1001] Accuracy: 97.66 %\n",
      "[1201] Accuracy: 98.83 %\n",
      "[1401] Accuracy: 99.22 %\n",
      "[1601] Accuracy: 99.22 %\n",
      "[1801] Accuracy: 98.83 %\n",
      "[2001] Accuracy: 99.61 %\n",
      "[2201] Accuracy: 98.83 %\n",
      "[2401] Accuracy: 99.22 %\n",
      "[2601] Accuracy: 98.83 %\n",
      "[2801] Accuracy: 99.61 %\n",
      "[3001] Accuracy: 99.22 %\n",
      "[3201] Accuracy: 98.44 %\n",
      "[3401] Accuracy: 99.22 %\n",
      "[3601] Accuracy: 99.22 %\n",
      "Wall time: 1min 20s\n"
     ]
    }
   ],
   "source": [
    "%%time\n",
    "\n",
    "for (it, (images, labels)) in enumerate(train_ds):\n",
    "\n",
    "    # Forward\n",
    "    with tf.GradientTape() as tape:\n",
    "        logits = model(images)\n",
    "        loss_value = loss(logits, labels)\n",
    "\n",
    "    # Backward\n",
    "    grads = tape.gradient(loss_value, model.variables)\n",
    "    optimizer.apply_gradients(zip(grads, model.variables),\n",
    "        global_step=global_step)\n",
    "\n",
    "    # Calc and display loss/accuracy\n",
    "    if it % 200 == 0:\n",
    "        test_logits = model(test_images[:256, ...])\n",
    "        accuracy_value = accuracy(test_logits, test_labels[:256, ...])\n",
    "\n",
    "        print(\"[%4d] Accuracy: %5.2f %%\" % (\n",
    "            global_step, accuracy_value.numpy()*100))\n",
    "\n",
    "        with writer.as_default():\n",
    "            with tf.contrib.summary.always_record_summaries():\n",
    "                tf.contrib.summary.scalar('accuracy', accuracy_value)\n",
    "                tf.contrib.summary.scalar('loss', loss_value)"
   ]
  },
  {
   "cell_type": "markdown",
   "metadata": {},
   "source": [
    "## Calculate validation accuracy"
   ]
  },
  {
   "cell_type": "code",
   "execution_count": 11,
   "metadata": {
    "scrolled": true
   },
   "outputs": [
    {
     "name": "stdout",
     "output_type": "stream",
     "text": [
      "Final Accuracy: 98.13 %\n",
      "Wall time: 907 ms\n"
     ]
    }
   ],
   "source": [
    "%%time\n",
    "\n",
    "test_logits = model(test_images)\n",
    "accuracy_value = accuracy(test_logits, test_labels)\n",
    "print(\"Final Accuracy: %5.2f %%\" % (accuracy_value.numpy()*100))"
   ]
  },
  {
   "cell_type": "markdown",
   "metadata": {},
   "source": [
    "## Define function for inference and result visualization"
   ]
  },
  {
   "cell_type": "code",
   "execution_count": 12,
   "metadata": {},
   "outputs": [],
   "source": [
    "def test_digit(sample):\n",
    "    \n",
    "    sample = sample[np.newaxis, ...]\n",
    "    logits = model(sample)\n",
    "    prediction = tf.nn.softmax(logits).numpy()\n",
    "    ans = np.argmax(prediction)\n",
    "\n",
    "    fig = plt.figure(figsize=(12,4))\n",
    "\n",
    "    ax = fig.add_subplot(1, 2, 1)\n",
    "    ax.imshow(sample.reshape(28, 28), cmap='binary')\n",
    "    plt.xticks(np.array([])), plt.yticks(np.array([]))\n",
    "\n",
    "    ax = fig.add_subplot(1, 2, 2)\n",
    "    bar_list = ax.bar(np.arange(10), prediction[0], align='center')\n",
    "    bar_list[ans].set_color('g')\n",
    "    ax.set_xticks(np.arange(10))\n",
    "    ax.set_xlim([-1, 10])\n",
    "    ax.grid(True)\n",
    "\n",
    "    plt.show()\n",
    "\n",
    "    print('Predicted answer: {}'.format(ans))"
   ]
  },
  {
   "cell_type": "markdown",
   "metadata": {},
   "source": [
    "## Run inference on a random test exmaple"
   ]
  },
  {
   "cell_type": "code",
   "execution_count": 13,
   "metadata": {},
   "outputs": [
    {
     "data": {
      "image/png": "[encoded data removed]",
      "text/plain": [
       "<Figure size 864x288 with 2 Axes>"
      ]
     },
     "metadata": {
      "needs_background": "light"
     },
     "output_type": "display_data"
    },
    {
     "name": "stdout",
     "output_type": "stream",
     "text": [
      "Predicted answer: 2\n"
     ]
    }
   ],
   "source": [
    "idx = random.randint(0, test_images.shape[0])\n",
    "sample = test_images[idx,:]\n",
    "test_digit(sample)"
   ]
  },
  {
   "cell_type": "code",
   "execution_count": 14,
   "metadata": {},
   "outputs": [
    {
     "name": "stdout",
     "output_type": "stream",
     "text": [
      "True Answer: 2\n"
     ]
    }
   ],
   "source": [
    "print('True Answer: {}'.format(test_labels[idx]))"
   ]
  },
  {
   "cell_type": "markdown",
   "metadata": {},
   "source": [
    "## Run inference on our example"
   ]
  },
  {
   "cell_type": "code",
   "execution_count": 15,
   "metadata": {},
   "outputs": [
    {
     "data": {
      "image/png": "[encoded data removed]",
      "text/plain": [
       "<Figure size 864x288 with 2 Axes>"
      ]
     },
     "metadata": {
      "needs_background": "light"
     },
     "output_type": "display_data"
    },
    {
     "name": "stdout",
     "output_type": "stream",
     "text": [
      "Predicted answer: 3\n"
     ]
    }
   ],
   "source": [
    "import imageio\n",
    "from skimage.transform import resize\n",
    "\n",
    "def load_and_prepare_image(fpath):\n",
    "    img = imageio.imread(fpath, pilmode=\"RGB\")\n",
    "    img = img.astype(np.float32)/255\n",
    "    img = resize(img, (28, 28), order=3, mode='reflect', anti_aliasing=True)\n",
    "    img = (1. - img).astype(np.float32)\n",
    "    img = np.mean(img, axis=2)\n",
    "    img = np.reshape(img, (28, 28, 1))\n",
    "    return img\n",
    "\n",
    "img = load_and_prepare_image('digit.png')\n",
    "test_digit(img)"
   ]
  },
  {
   "cell_type": "markdown",
   "metadata": {},
   "source": [
    "## QR code link to this demo"
   ]
  },
  {
   "cell_type": "code",
   "execution_count": 16,
   "metadata": {},
   "outputs": [
    {
     "data": {
      "image/png": "[encoded data removed]",
      "text/plain": [
       "<Figure size 288x288 with 1 Axes>"
      ]
     },
     "metadata": {
      "needs_background": "light"
     },
     "output_type": "display_data"
    }
   ],
   "source": [
    "GITHUB_URL = 'https://github.com/dkorobchenko-nv/dl-demo'\n",
    "\n",
    "import qrcode\n",
    "fig = plt.figure(figsize=(4, 4))\n",
    "_=plt.imshow(qrcode.make(GITHUB_URL))"
   ]
  }
 ],
 "metadata": {
  "anaconda-cloud": {},
  "kernelspec": {
   "display_name": "Python 3",
   "language": "python",
   "name": "python3"
  },
  "language_info": {
   "codemirror_mode": {
    "name": "ipython",
    "version": 3
   },
   "file_extension": ".py",
   "mimetype": "text/x-python",
   "name": "python",
   "nbconvert_exporter": "python",
   "pygments_lexer": "ipython3",
   "version": "3.6.7"
  }
 },
 "nbformat": 4,
 "nbformat_minor": 1
}
